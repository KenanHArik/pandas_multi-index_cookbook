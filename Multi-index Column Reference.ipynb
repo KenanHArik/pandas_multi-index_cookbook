{
 "cells": [
  {
   "cell_type": "markdown",
   "metadata": {},
   "source": [
    "# This cookbook goes through basic examples of creating hierarchical dataframe columns using multiindexing in pandas"
   ]
  },
  {
   "cell_type": "markdown",
   "metadata": {},
   "source": [
    "# Multi-index Column Example"
   ]
  },
  {
   "cell_type": "code",
   "execution_count": 1,
   "metadata": {
    "collapsed": true
   },
   "outputs": [],
   "source": [
    "import pandas as pd"
   ]
  },
  {
   "cell_type": "code",
   "execution_count": 2,
   "metadata": {},
   "outputs": [
    {
     "data": {
      "text/plain": [
       "[['a', 'b', 'c'], ['d', 'e', 'f'], ['g', 'h', 'i'], ['j', 'k', 'l']]"
      ]
     },
     "execution_count": 2,
     "metadata": {},
     "output_type": "execute_result"
    }
   ],
   "source": [
    "data = [['a', 'b', 'c'], ['d', 'e', 'f'], ['g', 'h', 'i'], ['j', 'k', 'l']]\n",
    "data"
   ]
  },
  {
   "cell_type": "code",
   "execution_count": 3,
   "metadata": {},
   "outputs": [
    {
     "data": {
      "text/plain": [
       "['1st col', '2nd col', '3rd col']"
      ]
     },
     "execution_count": 3,
     "metadata": {},
     "output_type": "execute_result"
    }
   ],
   "source": [
    "column_names = ['1st col', '2nd col', '3rd col']\n",
    "column_names"
   ]
  },
  {
   "cell_type": "code",
   "execution_count": 4,
   "metadata": {},
   "outputs": [
    {
     "data": {
      "text/plain": [
       "'letter matrix a-l'"
      ]
     },
     "execution_count": 4,
     "metadata": {},
     "output_type": "execute_result"
    }
   ],
   "source": [
    "dataset_description = 'letter matrix a-l'\n",
    "dataset_description"
   ]
  },
  {
   "cell_type": "code",
   "execution_count": 5,
   "metadata": {},
   "outputs": [
    {
     "data": {
      "text/plain": [
       "'Nov 1, 2017'"
      ]
     },
     "execution_count": 5,
     "metadata": {},
     "output_type": "execute_result"
    }
   ],
   "source": [
    "timestamp='Nov 1, 2017'\n",
    "timestamp"
   ]
  },
  {
   "cell_type": "code",
   "execution_count": 6,
   "metadata": {},
   "outputs": [
    {
     "data": {
      "text/plain": [
       "[('letter matrix a-l', 'Nov 1, 2017', '1st col'),\n",
       " ('letter matrix a-l', 'Nov 1, 2017', '2nd col'),\n",
       " ('letter matrix a-l', 'Nov 1, 2017', '3rd col')]"
      ]
     },
     "execution_count": 6,
     "metadata": {},
     "output_type": "execute_result"
    }
   ],
   "source": [
    "mi_list = []\n",
    "for column_name in column_names:\n",
    "    l = tuple([dataset_description, timestamp, column_name])\n",
    "    mi_list.append(l)\n",
    "mi_list"
   ]
  },
  {
   "cell_type": "code",
   "execution_count": 7,
   "metadata": {},
   "outputs": [
    {
     "data": {
      "text/plain": [
       "MultiIndex(levels=[[u'letter matrix a-l'], [u'Nov 1, 2017'], [u'1st col', u'2nd col', u'3rd col']],\n",
       "           labels=[[0, 0, 0], [0, 0, 0], [0, 1, 2]],\n",
       "           names=[u'Dataset Description:', u'Timestamp Info:', u'Column Description:'])"
      ]
     },
     "execution_count": 7,
     "metadata": {},
     "output_type": "execute_result"
    }
   ],
   "source": [
    "top_mi_lbl = 'Dataset Description:'\n",
    "mid_mi_lbl = 'Timestamp Info:'\n",
    "lower_mi_lbl = 'Column Description:'\n",
    "mi_col = pd.MultiIndex.from_tuples(mi_list, names=[top_mi_lbl, mid_mi_lbl, lower_mi_lbl])\n",
    "mi_col"
   ]
  },
  {
   "cell_type": "code",
   "execution_count": 8,
   "metadata": {},
   "outputs": [
    {
     "data": {
      "text/plain": [
       "[1, 2, 3, 4]"
      ]
     },
     "execution_count": 8,
     "metadata": {},
     "output_type": "execute_result"
    }
   ],
   "source": [
    "index_data = [1, 2, 3, 4]\n",
    "index_data"
   ]
  },
  {
   "cell_type": "code",
   "execution_count": 9,
   "metadata": {
    "collapsed": true
   },
   "outputs": [],
   "source": [
    "index_name='Index Desciption:'"
   ]
  },
  {
   "cell_type": "code",
   "execution_count": 10,
   "metadata": {},
   "outputs": [
    {
     "data": {
      "text/plain": [
       "Int64Index([1, 2, 3, 4], dtype='int64', name=u'Index Desciption:')"
      ]
     },
     "execution_count": 10,
     "metadata": {},
     "output_type": "execute_result"
    }
   ],
   "source": [
    "idx = pd.Index(data=index_data, name=index_name)\n",
    "idx"
   ]
  },
  {
   "cell_type": "code",
   "execution_count": 11,
   "metadata": {},
   "outputs": [
    {
     "data": {
      "text/html": [
       "<div>\n",
       "<style>\n",
       "    .dataframe thead tr:only-child th {\n",
       "        text-align: right;\n",
       "    }\n",
       "\n",
       "    .dataframe thead th {\n",
       "        text-align: left;\n",
       "    }\n",
       "\n",
       "    .dataframe tbody tr th {\n",
       "        vertical-align: top;\n",
       "    }\n",
       "</style>\n",
       "<table border=\"1\" class=\"dataframe\">\n",
       "  <thead>\n",
       "    <tr>\n",
       "      <th>Dataset Description:</th>\n",
       "      <th colspan=\"3\" halign=\"left\">letter matrix a-l</th>\n",
       "    </tr>\n",
       "    <tr>\n",
       "      <th>Timestamp Info:</th>\n",
       "      <th colspan=\"3\" halign=\"left\">Nov 1, 2017</th>\n",
       "    </tr>\n",
       "    <tr>\n",
       "      <th>Column Description:</th>\n",
       "      <th>1st col</th>\n",
       "      <th>2nd col</th>\n",
       "      <th>3rd col</th>\n",
       "    </tr>\n",
       "    <tr>\n",
       "      <th>Index Desciption:</th>\n",
       "      <th></th>\n",
       "      <th></th>\n",
       "      <th></th>\n",
       "    </tr>\n",
       "  </thead>\n",
       "  <tbody>\n",
       "    <tr>\n",
       "      <th>1</th>\n",
       "      <td>a</td>\n",
       "      <td>b</td>\n",
       "      <td>c</td>\n",
       "    </tr>\n",
       "    <tr>\n",
       "      <th>2</th>\n",
       "      <td>d</td>\n",
       "      <td>e</td>\n",
       "      <td>f</td>\n",
       "    </tr>\n",
       "    <tr>\n",
       "      <th>3</th>\n",
       "      <td>g</td>\n",
       "      <td>h</td>\n",
       "      <td>i</td>\n",
       "    </tr>\n",
       "    <tr>\n",
       "      <th>4</th>\n",
       "      <td>j</td>\n",
       "      <td>k</td>\n",
       "      <td>l</td>\n",
       "    </tr>\n",
       "  </tbody>\n",
       "</table>\n",
       "</div>"
      ],
      "text/plain": [
       "Dataset Description: letter matrix a-l                \n",
       "Timestamp Info:            Nov 1, 2017                \n",
       "Column Description:            1st col 2nd col 3rd col\n",
       "Index Desciption:                                     \n",
       "1                                    a       b       c\n",
       "2                                    d       e       f\n",
       "3                                    g       h       i\n",
       "4                                    j       k       l"
      ]
     },
     "execution_count": 11,
     "metadata": {},
     "output_type": "execute_result"
    }
   ],
   "source": [
    "df = pd.DataFrame(data=data, index=idx, columns=mi_col)\n",
    "df"
   ]
  },
  {
   "cell_type": "code",
   "execution_count": 12,
   "metadata": {},
   "outputs": [
    {
     "data": {
      "text/plain": [
       "[('letter matrix a-l', 'Nov 1, 2017', '1st col'),\n",
       " ('letter matrix a-l', 'Nov 1, 2017', '2nd col'),\n",
       " ('letter matrix a-l', 'Nov 1, 2017', '3rd col')]"
      ]
     },
     "execution_count": 12,
     "metadata": {},
     "output_type": "execute_result"
    }
   ],
   "source": [
    "# Note column values have multiple attributes due to multiindex nature:\n",
    "df.columns.tolist()"
   ]
  },
  {
   "cell_type": "code",
   "execution_count": 13,
   "metadata": {},
   "outputs": [
    {
     "data": {
      "text/plain": [
       "[['a', 'd', 'g', 'j'], ['b', 'e', 'h', 'k'], ['c', 'f', 'i', 'l']]"
      ]
     },
     "execution_count": 13,
     "metadata": {},
     "output_type": "execute_result"
    }
   ],
   "source": [
    "# if data is coming in on weird format, or need to transpose, consider:\n",
    "[list(i) for i in zip(*data)]"
   ]
  },
  {
   "cell_type": "markdown",
   "metadata": {},
   "source": [
    "# Slicing Multiindex DataFrame"
   ]
  },
  {
   "cell_type": "markdown",
   "metadata": {},
   "source": [
    "## Using Filters"
   ]
  },
  {
   "cell_type": "code",
   "execution_count": 14,
   "metadata": {},
   "outputs": [
    {
     "data": {
      "text/html": [
       "<div>\n",
       "<style>\n",
       "    .dataframe thead tr:only-child th {\n",
       "        text-align: right;\n",
       "    }\n",
       "\n",
       "    .dataframe thead th {\n",
       "        text-align: left;\n",
       "    }\n",
       "\n",
       "    .dataframe tbody tr th {\n",
       "        vertical-align: top;\n",
       "    }\n",
       "</style>\n",
       "<table border=\"1\" class=\"dataframe\">\n",
       "  <thead>\n",
       "    <tr>\n",
       "      <th>Dataset Description:</th>\n",
       "      <th>letter matrix a-l</th>\n",
       "    </tr>\n",
       "    <tr>\n",
       "      <th>Timestamp Info:</th>\n",
       "      <th>Nov 1, 2017</th>\n",
       "    </tr>\n",
       "    <tr>\n",
       "      <th>Column Description:</th>\n",
       "      <th>1st col</th>\n",
       "    </tr>\n",
       "    <tr>\n",
       "      <th>Index Desciption:</th>\n",
       "      <th></th>\n",
       "    </tr>\n",
       "  </thead>\n",
       "  <tbody>\n",
       "    <tr>\n",
       "      <th>1</th>\n",
       "      <td>a</td>\n",
       "    </tr>\n",
       "    <tr>\n",
       "      <th>2</th>\n",
       "      <td>d</td>\n",
       "    </tr>\n",
       "    <tr>\n",
       "      <th>3</th>\n",
       "      <td>g</td>\n",
       "    </tr>\n",
       "    <tr>\n",
       "      <th>4</th>\n",
       "      <td>j</td>\n",
       "    </tr>\n",
       "  </tbody>\n",
       "</table>\n",
       "</div>"
      ],
      "text/plain": [
       "Dataset Description: letter matrix a-l\n",
       "Timestamp Info:            Nov 1, 2017\n",
       "Column Description:            1st col\n",
       "Index Desciption:                     \n",
       "1                                    a\n",
       "2                                    d\n",
       "3                                    g\n",
       "4                                    j"
      ]
     },
     "execution_count": 14,
     "metadata": {},
     "output_type": "execute_result"
    }
   ],
   "source": [
    "# filter on match close to provided Column name:\n",
    "df.filter(like='1st')"
   ]
  },
  {
   "cell_type": "code",
   "execution_count": 15,
   "metadata": {},
   "outputs": [
    {
     "data": {
      "text/html": [
       "<div>\n",
       "<style>\n",
       "    .dataframe thead tr:only-child th {\n",
       "        text-align: right;\n",
       "    }\n",
       "\n",
       "    .dataframe thead th {\n",
       "        text-align: left;\n",
       "    }\n",
       "\n",
       "    .dataframe tbody tr th {\n",
       "        vertical-align: top;\n",
       "    }\n",
       "</style>\n",
       "<table border=\"1\" class=\"dataframe\">\n",
       "  <thead>\n",
       "    <tr>\n",
       "      <th>Dataset Description:</th>\n",
       "      <th colspan=\"3\" halign=\"left\">letter matrix a-l</th>\n",
       "    </tr>\n",
       "    <tr>\n",
       "      <th>Timestamp Info:</th>\n",
       "      <th colspan=\"3\" halign=\"left\">Nov 1, 2017</th>\n",
       "    </tr>\n",
       "    <tr>\n",
       "      <th>Column Description:</th>\n",
       "      <th>1st col</th>\n",
       "      <th>2nd col</th>\n",
       "      <th>3rd col</th>\n",
       "    </tr>\n",
       "    <tr>\n",
       "      <th>Index Desciption:</th>\n",
       "      <th></th>\n",
       "      <th></th>\n",
       "      <th></th>\n",
       "    </tr>\n",
       "  </thead>\n",
       "  <tbody>\n",
       "    <tr>\n",
       "      <th>1</th>\n",
       "      <td>a</td>\n",
       "      <td>b</td>\n",
       "      <td>c</td>\n",
       "    </tr>\n",
       "    <tr>\n",
       "      <th>2</th>\n",
       "      <td>d</td>\n",
       "      <td>e</td>\n",
       "      <td>f</td>\n",
       "    </tr>\n",
       "    <tr>\n",
       "      <th>3</th>\n",
       "      <td>g</td>\n",
       "      <td>h</td>\n",
       "      <td>i</td>\n",
       "    </tr>\n",
       "    <tr>\n",
       "      <th>4</th>\n",
       "      <td>j</td>\n",
       "      <td>k</td>\n",
       "      <td>l</td>\n",
       "    </tr>\n",
       "  </tbody>\n",
       "</table>\n",
       "</div>"
      ],
      "text/plain": [
       "Dataset Description: letter matrix a-l                \n",
       "Timestamp Info:            Nov 1, 2017                \n",
       "Column Description:            1st col 2nd col 3rd col\n",
       "Index Desciption:                                     \n",
       "1                                    a       b       c\n",
       "2                                    d       e       f\n",
       "3                                    g       h       i\n",
       "4                                    j       k       l"
      ]
     },
     "execution_count": 15,
     "metadata": {},
     "output_type": "execute_result"
    }
   ],
   "source": [
    "# filter on match close to provided Dataset Description:\n",
    "df.filter(like='letter')"
   ]
  },
  {
   "cell_type": "code",
   "execution_count": 16,
   "metadata": {},
   "outputs": [
    {
     "data": {
      "text/html": [
       "<div>\n",
       "<style>\n",
       "    .dataframe thead tr:only-child th {\n",
       "        text-align: right;\n",
       "    }\n",
       "\n",
       "    .dataframe thead th {\n",
       "        text-align: left;\n",
       "    }\n",
       "\n",
       "    .dataframe tbody tr th {\n",
       "        vertical-align: top;\n",
       "    }\n",
       "</style>\n",
       "<table border=\"1\" class=\"dataframe\">\n",
       "  <thead>\n",
       "    <tr>\n",
       "      <th>Dataset Description:</th>\n",
       "      <th colspan=\"3\" halign=\"left\">letter matrix a-l</th>\n",
       "    </tr>\n",
       "    <tr>\n",
       "      <th>Timestamp Info:</th>\n",
       "      <th colspan=\"3\" halign=\"left\">Nov 1, 2017</th>\n",
       "    </tr>\n",
       "    <tr>\n",
       "      <th>Column Description:</th>\n",
       "      <th>1st col</th>\n",
       "      <th>2nd col</th>\n",
       "      <th>3rd col</th>\n",
       "    </tr>\n",
       "    <tr>\n",
       "      <th>Index Desciption:</th>\n",
       "      <th></th>\n",
       "      <th></th>\n",
       "      <th></th>\n",
       "    </tr>\n",
       "  </thead>\n",
       "  <tbody>\n",
       "    <tr>\n",
       "      <th>1</th>\n",
       "      <td>a</td>\n",
       "      <td>b</td>\n",
       "      <td>c</td>\n",
       "    </tr>\n",
       "    <tr>\n",
       "      <th>2</th>\n",
       "      <td>d</td>\n",
       "      <td>e</td>\n",
       "      <td>f</td>\n",
       "    </tr>\n",
       "    <tr>\n",
       "      <th>3</th>\n",
       "      <td>g</td>\n",
       "      <td>h</td>\n",
       "      <td>i</td>\n",
       "    </tr>\n",
       "    <tr>\n",
       "      <th>4</th>\n",
       "      <td>j</td>\n",
       "      <td>k</td>\n",
       "      <td>l</td>\n",
       "    </tr>\n",
       "  </tbody>\n",
       "</table>\n",
       "</div>"
      ],
      "text/plain": [
       "Dataset Description: letter matrix a-l                \n",
       "Timestamp Info:            Nov 1, 2017                \n",
       "Column Description:            1st col 2nd col 3rd col\n",
       "Index Desciption:                                     \n",
       "1                                    a       b       c\n",
       "2                                    d       e       f\n",
       "3                                    g       h       i\n",
       "4                                    j       k       l"
      ]
     },
     "execution_count": 16,
     "metadata": {},
     "output_type": "execute_result"
    }
   ],
   "source": [
    "# filter on match close to provided Timestamp label:\n",
    "df.filter(like='Nov')"
   ]
  },
  {
   "cell_type": "markdown",
   "metadata": {},
   "source": [
    "## Using xs on columns"
   ]
  },
  {
   "cell_type": "code",
   "execution_count": 17,
   "metadata": {
    "scrolled": true
   },
   "outputs": [
    {
     "data": {
      "text/plain": [
       "Index Desciption:\n",
       "1    a\n",
       "2    d\n",
       "3    g\n",
       "4    j\n",
       "Name: (letter matrix a-l, Nov 1, 2017, 1st col), dtype: object"
      ]
     },
     "execution_count": 17,
     "metadata": {},
     "output_type": "execute_result"
    }
   ],
   "source": [
    "df.xs(('letter matrix a-l', 'Nov 1, 2017', '1st col'), axis=1)"
   ]
  },
  {
   "cell_type": "code",
   "execution_count": 18,
   "metadata": {},
   "outputs": [
    {
     "data": {
      "text/html": [
       "<div>\n",
       "<style>\n",
       "    .dataframe thead tr:only-child th {\n",
       "        text-align: right;\n",
       "    }\n",
       "\n",
       "    .dataframe thead th {\n",
       "        text-align: left;\n",
       "    }\n",
       "\n",
       "    .dataframe tbody tr th {\n",
       "        vertical-align: top;\n",
       "    }\n",
       "</style>\n",
       "<table border=\"1\" class=\"dataframe\">\n",
       "  <thead>\n",
       "    <tr style=\"text-align: right;\">\n",
       "      <th>Timestamp Info:</th>\n",
       "      <th>Nov 1, 2017</th>\n",
       "    </tr>\n",
       "    <tr>\n",
       "      <th>Index Desciption:</th>\n",
       "      <th></th>\n",
       "    </tr>\n",
       "  </thead>\n",
       "  <tbody>\n",
       "    <tr>\n",
       "      <th>1</th>\n",
       "      <td>a</td>\n",
       "    </tr>\n",
       "    <tr>\n",
       "      <th>2</th>\n",
       "      <td>d</td>\n",
       "    </tr>\n",
       "    <tr>\n",
       "      <th>3</th>\n",
       "      <td>g</td>\n",
       "    </tr>\n",
       "    <tr>\n",
       "      <th>4</th>\n",
       "      <td>j</td>\n",
       "    </tr>\n",
       "  </tbody>\n",
       "</table>\n",
       "</div>"
      ],
      "text/plain": [
       "Timestamp Info:   Nov 1, 2017\n",
       "Index Desciption:            \n",
       "1                           a\n",
       "2                           d\n",
       "3                           g\n",
       "4                           j"
      ]
     },
     "execution_count": 18,
     "metadata": {},
     "output_type": "execute_result"
    }
   ],
   "source": [
    "df.xs(('letter matrix a-l', '1st col'), axis=1, level=[0,2])"
   ]
  },
  {
   "cell_type": "markdown",
   "metadata": {},
   "source": [
    "## By passing list of columns"
   ]
  },
  {
   "cell_type": "code",
   "execution_count": 19,
   "metadata": {},
   "outputs": [
    {
     "data": {
      "text/plain": [
       "Index Desciption:\n",
       "1    a\n",
       "2    d\n",
       "3    g\n",
       "4    j\n",
       "Name: 1st col, dtype: object"
      ]
     },
     "execution_count": 19,
     "metadata": {},
     "output_type": "execute_result"
    }
   ],
   "source": [
    "df['letter matrix a-l']['Nov 1, 2017']['1st col']"
   ]
  },
  {
   "cell_type": "code",
   "execution_count": 20,
   "metadata": {
    "scrolled": true
   },
   "outputs": [
    {
     "data": {
      "text/html": [
       "<div>\n",
       "<style>\n",
       "    .dataframe thead tr:only-child th {\n",
       "        text-align: right;\n",
       "    }\n",
       "\n",
       "    .dataframe thead th {\n",
       "        text-align: left;\n",
       "    }\n",
       "\n",
       "    .dataframe tbody tr th {\n",
       "        vertical-align: top;\n",
       "    }\n",
       "</style>\n",
       "<table border=\"1\" class=\"dataframe\">\n",
       "  <thead>\n",
       "    <tr style=\"text-align: right;\">\n",
       "      <th>Column Description:</th>\n",
       "      <th>1st col</th>\n",
       "      <th>2nd col</th>\n",
       "    </tr>\n",
       "    <tr>\n",
       "      <th>Index Desciption:</th>\n",
       "      <th></th>\n",
       "      <th></th>\n",
       "    </tr>\n",
       "  </thead>\n",
       "  <tbody>\n",
       "    <tr>\n",
       "      <th>1</th>\n",
       "      <td>a</td>\n",
       "      <td>b</td>\n",
       "    </tr>\n",
       "    <tr>\n",
       "      <th>2</th>\n",
       "      <td>d</td>\n",
       "      <td>e</td>\n",
       "    </tr>\n",
       "    <tr>\n",
       "      <th>3</th>\n",
       "      <td>g</td>\n",
       "      <td>h</td>\n",
       "    </tr>\n",
       "    <tr>\n",
       "      <th>4</th>\n",
       "      <td>j</td>\n",
       "      <td>k</td>\n",
       "    </tr>\n",
       "  </tbody>\n",
       "</table>\n",
       "</div>"
      ],
      "text/plain": [
       "Column Description: 1st col 2nd col\n",
       "Index Desciption:                  \n",
       "1                         a       b\n",
       "2                         d       e\n",
       "3                         g       h\n",
       "4                         j       k"
      ]
     },
     "execution_count": 20,
     "metadata": {},
     "output_type": "execute_result"
    }
   ],
   "source": [
    "df['letter matrix a-l']['Nov 1, 2017'][['1st col', '2nd col']]"
   ]
  },
  {
   "cell_type": "markdown",
   "metadata": {},
   "source": [
    "## By using loc and passing axis argument"
   ]
  },
  {
   "cell_type": "code",
   "execution_count": 21,
   "metadata": {},
   "outputs": [
    {
     "data": {
      "text/html": [
       "<div>\n",
       "<style>\n",
       "    .dataframe thead tr:only-child th {\n",
       "        text-align: right;\n",
       "    }\n",
       "\n",
       "    .dataframe thead th {\n",
       "        text-align: left;\n",
       "    }\n",
       "\n",
       "    .dataframe tbody tr th {\n",
       "        vertical-align: top;\n",
       "    }\n",
       "</style>\n",
       "<table border=\"1\" class=\"dataframe\">\n",
       "  <thead>\n",
       "    <tr>\n",
       "      <th>Dataset Description:</th>\n",
       "      <th colspan=\"2\" halign=\"left\">letter matrix a-l</th>\n",
       "    </tr>\n",
       "    <tr>\n",
       "      <th>Timestamp Info:</th>\n",
       "      <th colspan=\"2\" halign=\"left\">Nov 1, 2017</th>\n",
       "    </tr>\n",
       "    <tr>\n",
       "      <th>Column Description:</th>\n",
       "      <th>1st col</th>\n",
       "      <th>2nd col</th>\n",
       "    </tr>\n",
       "    <tr>\n",
       "      <th>Index Desciption:</th>\n",
       "      <th></th>\n",
       "      <th></th>\n",
       "    </tr>\n",
       "  </thead>\n",
       "  <tbody>\n",
       "    <tr>\n",
       "      <th>1</th>\n",
       "      <td>a</td>\n",
       "      <td>b</td>\n",
       "    </tr>\n",
       "    <tr>\n",
       "      <th>2</th>\n",
       "      <td>d</td>\n",
       "      <td>e</td>\n",
       "    </tr>\n",
       "    <tr>\n",
       "      <th>3</th>\n",
       "      <td>g</td>\n",
       "      <td>h</td>\n",
       "    </tr>\n",
       "    <tr>\n",
       "      <th>4</th>\n",
       "      <td>j</td>\n",
       "      <td>k</td>\n",
       "    </tr>\n",
       "  </tbody>\n",
       "</table>\n",
       "</div>"
      ],
      "text/plain": [
       "Dataset Description: letter matrix a-l        \n",
       "Timestamp Info:            Nov 1, 2017        \n",
       "Column Description:            1st col 2nd col\n",
       "Index Desciption:                             \n",
       "1                                    a       b\n",
       "2                                    d       e\n",
       "3                                    g       h\n",
       "4                                    j       k"
      ]
     },
     "execution_count": 21,
     "metadata": {},
     "output_type": "execute_result"
    }
   ],
   "source": [
    "df.loc(axis=1)[:, :, '1st col':'2nd col']"
   ]
  },
  {
   "cell_type": "code",
   "execution_count": 22,
   "metadata": {
    "scrolled": true
   },
   "outputs": [
    {
     "data": {
      "text/html": [
       "<div>\n",
       "<style>\n",
       "    .dataframe thead tr:only-child th {\n",
       "        text-align: right;\n",
       "    }\n",
       "\n",
       "    .dataframe thead th {\n",
       "        text-align: left;\n",
       "    }\n",
       "\n",
       "    .dataframe tbody tr th {\n",
       "        vertical-align: top;\n",
       "    }\n",
       "</style>\n",
       "<table border=\"1\" class=\"dataframe\">\n",
       "  <thead>\n",
       "    <tr>\n",
       "      <th>Dataset Description:</th>\n",
       "      <th>letter matrix a-l</th>\n",
       "    </tr>\n",
       "    <tr>\n",
       "      <th>Timestamp Info:</th>\n",
       "      <th>Nov 1, 2017</th>\n",
       "    </tr>\n",
       "    <tr>\n",
       "      <th>Column Description:</th>\n",
       "      <th>1st col</th>\n",
       "    </tr>\n",
       "    <tr>\n",
       "      <th>Index Desciption:</th>\n",
       "      <th></th>\n",
       "    </tr>\n",
       "  </thead>\n",
       "  <tbody>\n",
       "    <tr>\n",
       "      <th>1</th>\n",
       "      <td>a</td>\n",
       "    </tr>\n",
       "    <tr>\n",
       "      <th>2</th>\n",
       "      <td>d</td>\n",
       "    </tr>\n",
       "    <tr>\n",
       "      <th>3</th>\n",
       "      <td>g</td>\n",
       "    </tr>\n",
       "    <tr>\n",
       "      <th>4</th>\n",
       "      <td>j</td>\n",
       "    </tr>\n",
       "  </tbody>\n",
       "</table>\n",
       "</div>"
      ],
      "text/plain": [
       "Dataset Description: letter matrix a-l\n",
       "Timestamp Info:            Nov 1, 2017\n",
       "Column Description:            1st col\n",
       "Index Desciption:                     \n",
       "1                                    a\n",
       "2                                    d\n",
       "3                                    g\n",
       "4                                    j"
      ]
     },
     "execution_count": 22,
     "metadata": {},
     "output_type": "execute_result"
    }
   ],
   "source": [
    "# note alternatively we can use slice(None):\n",
    "df.loc(axis=1)[slice(None), slice(None), '1st col']"
   ]
  },
  {
   "cell_type": "code",
   "execution_count": 23,
   "metadata": {
    "scrolled": true
   },
   "outputs": [
    {
     "data": {
      "text/html": [
       "<div>\n",
       "<style>\n",
       "    .dataframe thead tr:only-child th {\n",
       "        text-align: right;\n",
       "    }\n",
       "\n",
       "    .dataframe thead th {\n",
       "        text-align: left;\n",
       "    }\n",
       "\n",
       "    .dataframe tbody tr th {\n",
       "        vertical-align: top;\n",
       "    }\n",
       "</style>\n",
       "<table border=\"1\" class=\"dataframe\">\n",
       "  <thead>\n",
       "    <tr>\n",
       "      <th>Dataset Description:</th>\n",
       "      <th colspan=\"2\" halign=\"left\">letter matrix a-l</th>\n",
       "    </tr>\n",
       "    <tr>\n",
       "      <th>Timestamp Info:</th>\n",
       "      <th colspan=\"2\" halign=\"left\">Nov 1, 2017</th>\n",
       "    </tr>\n",
       "    <tr>\n",
       "      <th>Column Description:</th>\n",
       "      <th>1st col</th>\n",
       "      <th>3rd col</th>\n",
       "    </tr>\n",
       "    <tr>\n",
       "      <th>Index Desciption:</th>\n",
       "      <th></th>\n",
       "      <th></th>\n",
       "    </tr>\n",
       "  </thead>\n",
       "  <tbody>\n",
       "    <tr>\n",
       "      <th>1</th>\n",
       "      <td>a</td>\n",
       "      <td>c</td>\n",
       "    </tr>\n",
       "    <tr>\n",
       "      <th>2</th>\n",
       "      <td>d</td>\n",
       "      <td>f</td>\n",
       "    </tr>\n",
       "    <tr>\n",
       "      <th>3</th>\n",
       "      <td>g</td>\n",
       "      <td>i</td>\n",
       "    </tr>\n",
       "    <tr>\n",
       "      <th>4</th>\n",
       "      <td>j</td>\n",
       "      <td>l</td>\n",
       "    </tr>\n",
       "  </tbody>\n",
       "</table>\n",
       "</div>"
      ],
      "text/plain": [
       "Dataset Description: letter matrix a-l        \n",
       "Timestamp Info:            Nov 1, 2017        \n",
       "Column Description:            1st col 3rd col\n",
       "Index Desciption:                             \n",
       "1                                    a       c\n",
       "2                                    d       f\n",
       "3                                    g       i\n",
       "4                                    j       l"
      ]
     },
     "execution_count": 23,
     "metadata": {},
     "output_type": "execute_result"
    }
   ],
   "source": [
    "df.loc(axis=1)[:, :, ['1st col', '3rd col']]"
   ]
  },
  {
   "cell_type": "code",
   "execution_count": 24,
   "metadata": {},
   "outputs": [
    {
     "data": {
      "text/html": [
       "<div>\n",
       "<style>\n",
       "    .dataframe thead tr:only-child th {\n",
       "        text-align: right;\n",
       "    }\n",
       "\n",
       "    .dataframe thead th {\n",
       "        text-align: left;\n",
       "    }\n",
       "\n",
       "    .dataframe tbody tr th {\n",
       "        vertical-align: top;\n",
       "    }\n",
       "</style>\n",
       "<table border=\"1\" class=\"dataframe\">\n",
       "  <thead>\n",
       "    <tr>\n",
       "      <th>Dataset Description:</th>\n",
       "      <th colspan=\"2\" halign=\"left\">letter matrix a-l</th>\n",
       "    </tr>\n",
       "    <tr>\n",
       "      <th>Timestamp Info:</th>\n",
       "      <th colspan=\"2\" halign=\"left\">Nov 1, 2017</th>\n",
       "    </tr>\n",
       "    <tr>\n",
       "      <th>Column Description:</th>\n",
       "      <th>1st col</th>\n",
       "      <th>3rd col</th>\n",
       "    </tr>\n",
       "    <tr>\n",
       "      <th>Index Desciption:</th>\n",
       "      <th></th>\n",
       "      <th></th>\n",
       "    </tr>\n",
       "  </thead>\n",
       "  <tbody>\n",
       "    <tr>\n",
       "      <th>1</th>\n",
       "      <td>a</td>\n",
       "      <td>c</td>\n",
       "    </tr>\n",
       "    <tr>\n",
       "      <th>2</th>\n",
       "      <td>d</td>\n",
       "      <td>f</td>\n",
       "    </tr>\n",
       "  </tbody>\n",
       "</table>\n",
       "</div>"
      ],
      "text/plain": [
       "Dataset Description: letter matrix a-l        \n",
       "Timestamp Info:            Nov 1, 2017        \n",
       "Column Description:            1st col 3rd col\n",
       "Index Desciption:                             \n",
       "1                                    a       c\n",
       "2                                    d       f"
      ]
     },
     "execution_count": 24,
     "metadata": {},
     "output_type": "execute_result"
    }
   ],
   "source": [
    "# even can slice on index and columns simultaneously\n",
    "df.loc[1:2, (slice(None), slice(None), ['1st col', '3rd col'])]"
   ]
  }
 ],
 "metadata": {
  "kernelspec": {
   "display_name": "Python 2",
   "language": "python",
   "name": "python2"
  },
  "language_info": {
   "codemirror_mode": {
    "name": "ipython",
    "version": 2
   },
   "file_extension": ".py",
   "mimetype": "text/x-python",
   "name": "python",
   "nbconvert_exporter": "python",
   "pygments_lexer": "ipython2",
   "version": "2.7.14"
  }
 },
 "nbformat": 4,
 "nbformat_minor": 2
}
